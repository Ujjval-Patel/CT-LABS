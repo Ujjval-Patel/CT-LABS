{
 "cells": [
  {
   "cell_type": "code",
   "execution_count": 2,
   "metadata": {
    "colab": {},
    "colab_type": "code",
    "id": "4fbKYNDzNxOv"
   },
   "outputs": [],
   "source": [
    "import numpy as np\n",
    "import random\n",
    "import matplotlib.pyplot as plt\n",
    "from scipy.stats import norm"
   ]
  },
  {
   "cell_type": "markdown",
   "metadata": {
    "colab_type": "text",
    "id": "L0wUFWWSaYQF"
   },
   "source": [
    "to plot histogram use plt.hist()"
   ]
  },
  {
   "cell_type": "markdown",
   "metadata": {
    "colab_type": "text",
    "id": "DOB7P9hOVOXE"
   },
   "source": [
    "\n",
    "\n",
    "> ## <font color='red'> 1. Generate normal random process and plot the probability density function (PDF) of random variable for different value of $t$. Find out whether the process is wide sense stationary (WSS).<font>\n",
    "\n"
   ]
  },
  {
   "cell_type": "code",
   "execution_count": 4,
   "metadata": {
    "colab": {
     "base_uri": "https://localhost:8080/",
     "height": 483
    },
    "colab_type": "code",
    "executionInfo": {
     "elapsed": 2269,
     "status": "ok",
     "timestamp": 1554784144338,
     "user": {
      "displayName": "Jignesh Patel",
      "photoUrl": "https://lh4.googleusercontent.com/-vUfG6O6FZMo/AAAAAAAAAAI/AAAAAAAAEbI/nRY5hm534mE/s64/photo.jpg",
      "userId": "14227228275160561258"
     },
     "user_tz": -330
    },
    "id": "LGRDl_ssNxO0",
    "outputId": "b2a1919b-e9e6-4487-b4c5-a5148259213f"
   },
   "outputs": [
    {
     "name": "stdout",
     "output_type": "stream",
     "text": [
      "-0.004959852815845717\n",
      "0.021209682336750347\n"
     ]
    }
   ],
   "source": [
    "x = np.zeros((10000,100))\n",
    "for i in range(10000):\n",
    "    x[i,:] = np.random.normal(0,1,100)\n",
    "y = np.zeros(100)\n",
    "for j in range(100):\n",
    "    y[j] = np.mean(x[:,j])\n",
    "#plt.plot(y[0:100])\n",
    "z = np.zeros(100)\n",
    "for j in range(100):\n",
    "    z[j] = np.mean(x[:,0]*x[:,j])\n",
    "print(np.mean(x[:,2]*x[:,4]))\n",
    "print(z[2])\n",
    "    \n"
   ]
  },
  {
   "cell_type": "markdown",
   "metadata": {
    "colab_type": "text",
    "id": "E4pJFIe3W17X"
   },
   "source": [
    "## <font color='red'> 2. For the random process given by $X(t)=A \\cos(\\omega_ot+\\theta)$, where $\\theta$ is a random variable uniformly distributed between $0$ and $2\\pi$. Find out whether the process is wide sense stationary (WSS).<font>"
   ]
  },
  {
   "cell_type": "code",
   "execution_count": 5,
   "metadata": {
    "colab": {
     "base_uri": "https://localhost:8080/",
     "height": 483
    },
    "colab_type": "code",
    "executionInfo": {
     "elapsed": 6003,
     "status": "ok",
     "timestamp": 1554784331509,
     "user": {
      "displayName": "Jignesh Patel",
      "photoUrl": "https://lh4.googleusercontent.com/-vUfG6O6FZMo/AAAAAAAAAAI/AAAAAAAAEbI/nRY5hm534mE/s64/photo.jpg",
      "userId": "14227228275160561258"
     },
     "user_tz": -330
    },
    "id": "urO80lYeNxO5",
    "outputId": "3b5e5895-ddf0-45a4-f8a0-fc59ad2e51a7"
   },
   "outputs": [
    {
     "name": "stdout",
     "output_type": "stream",
     "text": [
      "-0.20826870917952092\n",
      "-0.20798928847827347\n"
     ]
    }
   ],
   "source": [
    "time_size = 100\n",
    "A = 1\n",
    "samples_size = 10000\n",
    "theta = np.linspace(0,6.28,num =10000)\n",
    "t = np.arange(0,1,1/time_size)\n",
    "x = np.zeros((10000,100))\n",
    "for i in range(10000):\n",
    "        x[i,:] = A*np.cos(100*t+theta[i])\n",
    "y = np.zeros(100)\n",
    "for j in range(100):\n",
    "    y[j] = np.mean(x[:,j])\n",
    "#plt.plot(y)\n",
    "z = np.zeros(100)\n",
    "for j in range(100):\n",
    "    z[j] = np.mean(x[:,0]*x[:,j])\n",
    "print(np.mean(x[:,2]*x[:,4]))\n",
    "print(z[2])\n"
   ]
  },
  {
   "cell_type": "markdown",
   "metadata": {
    "colab_type": "text",
    "id": "ELEqX9swXmL2"
   },
   "source": [
    "## <font color='red'> 3. Let $Z(t)=X\\cos(\\omega_ct)+Y\\sin(\\omega_ct)$, where $X$ and $Y$ are independent Gaussian random variables, each with 0 mean and unit variance. Show that $Z(t)$ is WSS and $R_z(\\tau)=\\cos(\\omega_ct)$. Let $Z(t_1)=V$. Show that $V$ is $N(0,1)$.<font>"
   ]
  },
  {
   "cell_type": "code",
   "execution_count": 75,
   "metadata": {
    "colab": {
     "base_uri": "https://localhost:8080/",
     "height": 1456
    },
    "colab_type": "code",
    "executionInfo": {
     "elapsed": 5819,
     "status": "ok",
     "timestamp": 1554785380437,
     "user": {
      "displayName": "Jignesh Patel",
      "photoUrl": "https://lh4.googleusercontent.com/-vUfG6O6FZMo/AAAAAAAAAAI/AAAAAAAAEbI/nRY5hm534mE/s64/photo.jpg",
      "userId": "14227228275160561258"
     },
     "user_tz": -330
    },
    "id": "MtvgfqY4NxO8",
    "outputId": "8f4da0b4-7aa6-4602-d01a-38f4912c4888"
   },
   "outputs": [
    {
     "name": "stdout",
     "output_type": "stream",
     "text": [
      "-0.005374967997156679\n"
     ]
    },
    {
     "data": {
      "text/plain": [
       "(array([1.100e+01, 1.540e+02, 7.930e+02, 2.202e+03, 3.253e+03, 2.431e+03,\n",
       "        9.620e+02, 1.760e+02, 1.600e+01, 2.000e+00]),\n",
       " array([-3.86385402, -3.01840309, -2.17295216, -1.32750123, -0.48205031,\n",
       "         0.36340062,  1.20885155,  2.05430247,  2.8997534 ,  3.74520433,\n",
       "         4.59065525]),\n",
       " <a list of 10 Patch objects>)"
      ]
     },
     "execution_count": 75,
     "metadata": {},
     "output_type": "execute_result"
    },
    {
     "data": {
      "image/png": "[encoded data removed]",
      "text/plain": [
       "<Figure size 432x288 with 1 Axes>"
      ]
     },
     "metadata": {
      "needs_background": "light"
     },
     "output_type": "display_data"
    }
   ],
   "source": [
    "time_stamp = 100\n",
    "omega = 100\n",
    "t = np.arange(0,1,1/time_stamp)\n",
    "\n",
    "z = np.zeros((10000,100))\n",
    "\n",
    "for i in range(10000):\n",
    "    x = np.random.normal(0,1,1)\n",
    "    y = np.random.normal(0,1,1)\n",
    "    z[i,:] = (x*np.cos(omega*t)) + (y*np.sin(omega*t))\n",
    "    \n",
    "mean = np.zeros(100)\n",
    "for j in range(100):\n",
    "    mean[j] = np.mean(z[:,j])\n",
    "    \n",
    "Z = np.zeros(100)\n",
    "for j in range(100):\n",
    "    Z[j] = np.mean(z[:,0]*z[:,j])\n",
    "print(np.mean(z[5,:]))\n",
    "V = np.zeros(100)\n",
    "\n",
    "plt.hist(z[:,45])"
   ]
  },
  {
   "cell_type": "code",
   "execution_count": 0,
   "metadata": {
    "colab": {},
    "colab_type": "code",
    "id": "by0Zf3dFNxPA"
   },
   "outputs": [],
   "source": []
  }
 ],
 "metadata": {
  "colab": {
   "collapsed_sections": [],
   "name": "LAB 9.ipynb",
   "provenance": [
    {
     "file_id": "1NG0gtfGgZ5wmtaz7QCjq3QOowVENYvIB",
     "timestamp": 1554784582724
    }
   ],
   "version": "0.3.2"
  },
  "kernelspec": {
   "display_name": "Python 3",
   "language": "python",
   "name": "python3"
  },
  "language_info": {
   "codemirror_mode": {
    "name": "ipython",
    "version": 3
   },
   "file_extension": ".py",
   "mimetype": "text/x-python",
   "name": "python",
   "nbconvert_exporter": "python",
   "pygments_lexer": "ipython3",
   "version": "3.7.1"
  }
 },
 "nbformat": 4,
 "nbformat_minor": 1
}
