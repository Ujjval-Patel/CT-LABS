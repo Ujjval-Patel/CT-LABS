{
 "cells": [
  {
   "cell_type": "markdown",
   "metadata": {
    "colab_type": "text",
    "id": "SC8rZl_fnw1d"
   },
   "source": [
    "## Basic of Numbers in python"
   ]
  },
  {
   "cell_type": "markdown",
   "metadata": {
    "colab_type": "text",
    "id": "wATXf9zrnw1e"
   },
   "source": [
    "Integers and floats work as you would expect from other languages:"
   ]
  },
  {
   "cell_type": "code",
   "execution_count": 0,
   "metadata": {
    "colab": {},
    "colab_type": "code",
    "id": "Rr8W2uMznw1g"
   },
   "outputs": [],
   "source": [
    "x = 3\n",
    "print (x, type(x))"
   ]
  },
  {
   "cell_type": "code",
   "execution_count": 0,
   "metadata": {
    "colab": {},
    "colab_type": "code",
    "id": "SJouww7Inw1p"
   },
   "outputs": [],
   "source": [
    "print (x + 1)   # Addition;\n",
    "print (x - 1)   # Subtraction;\n",
    "print (x * 2)   # Multiplication;\n",
    "print (x ** 2)  # Exponentiation;"
   ]
  },
  {
   "cell_type": "code",
   "execution_count": 0,
   "metadata": {
    "colab": {},
    "colab_type": "code",
    "id": "nj14uZF2nw1z"
   },
   "outputs": [],
   "source": [
    "x += 1\n",
    "print (x)  # Prints \"4\"\n",
    "x *= 2\n",
    "print (x)  # Prints \"8\""
   ]
  },
  {
   "cell_type": "code",
   "execution_count": 0,
   "metadata": {
    "colab": {},
    "colab_type": "code",
    "id": "gUMeY7ILnw16"
   },
   "outputs": [],
   "source": [
    "y = 2.5\n",
    "print (type(y) )# Prints \"<type 'float'>\"\n",
    "print (y, y + 1, y * 2, y ** 2) # Prints \"2.5 3.5 5.0 6.25\""
   ]
  },
  {
   "cell_type": "markdown",
   "metadata": {
    "colab_type": "text",
    "id": "qxvvHiItnw2H"
   },
   "source": [
    "Note that unlike many languages, Python does not have unary increment (x++) or decrement (x--) operators.\n",
    "\n",
    "Python also has built-in types for long integers and complex numbers; you can find all of the details in the [documentation](https://docs.python.org/2/library/stdtypes.html#numeric-types-int-float-long-complex)."
   ]
  },
  {
   "cell_type": "markdown",
   "metadata": {
    "colab_type": "text",
    "id": "EPF5FeiybxYi"
   },
   "source": [
    "## Numpy \n",
    "Numpy is the core library for scientific computing in Python. It provides a high-performance multidimensional array object, and tools for working with these arrays. If you are already familiar with MATLAB,"
   ]
  },
  {
   "cell_type": "code",
   "execution_count": 1,
   "metadata": {
    "colab": {},
    "colab_type": "code",
    "id": "zzuw0IDlb4uY"
   },
   "outputs": [],
   "source": [
    "import numpy as np"
   ]
  },
  {
   "cell_type": "markdown",
   "metadata": {
    "colab_type": "text",
    "id": "UjZvGRYzb6xp"
   },
   "source": [
    "Find details of mathemetical function in numpy  at https://docs.scipy.org/doc/numpy-1.15.0/reference/routines.math.html"
   ]
  },
  {
   "cell_type": "markdown",
   "metadata": {
    "colab_type": "text",
    "id": "WM95q6CkXwv6"
   },
   "source": [
    "##<font color='red'>1. Evaluate the expression $a^3+\\sqrt{bd}-4c$, where $a=1.2, b=2.3, c=4.5$ and $d=4$.</font> "
   ]
  },
  {
   "cell_type": "code",
   "execution_count": 2,
   "metadata": {
    "colab": {},
    "colab_type": "code",
    "id": "3CI1OWaFYsyg"
   },
   "outputs": [
    {
     "name": "stdout",
     "output_type": "stream",
     "text": [
      "-13.23884982237938\n"
     ]
    }
   ],
   "source": [
    "#Write your code\n",
    "a = 1.2\n",
    "b = 2.3\n",
    "c = 4.5\n",
    "d = 4\n",
    "print(a**3 + np.sqrt(b*d) - 4*c )"
   ]
  },
  {
   "cell_type": "markdown",
   "metadata": {
    "colab_type": "text",
    "id": "e_J4a3YEfe6P"
   },
   "source": [
    "##Numpy array indexing and array operations\n",
    "Help to create Numpy array: https://docs.scipy.org/doc/numpy-1.15.0/reference/generated/numpy.array.html#numpy.array\n",
    "\n",
    "Help to create Numpy array indexing:https://docs.scipy.org/doc/numpy-1.15.0/reference/arrays.indexing.html\n",
    "\n",
    "Help to create Numpy for matlab user:https://docs.scipy.org/doc/numpy/user/numpy-for-matlab-users.html\n"
   ]
  },
  {
   "cell_type": "markdown",
   "metadata": {
    "colab_type": "text",
    "id": "3IPVZYK9dkxa"
   },
   "source": [
    "##<font color='red'>2. Consider the two matrices: $$A=\\begin{bmatrix}4 & -6 \\\\6 & 10\n",
    "\\end{bmatrix}B=\\begin{bmatrix}6 & -13 \\\\3.4 & 16\n",
    "\\end{bmatrix}$$</font> \n",
    "##<font color='red'>Find: (a) $A+B$ (b) $B^2$ (c) $AB$ (d) $B^TA^T$ (e) Replace the second column of $A$ with that of $B$.</font> "
   ]
  },
  {
   "cell_type": "code",
   "execution_count": 8,
   "metadata": {
    "colab": {},
    "colab_type": "code",
    "id": "w-nnu6l4gIY6"
   },
   "outputs": [
    {
     "name": "stdout",
     "output_type": "stream",
     "text": [
      "[[ 10.  -19. ]\n",
      " [  9.4  26. ]] \n",
      " [[  -8.2 -286. ]\n",
      " [  74.8  211.8]] \n",
      " [[   3.6 -148. ]\n",
      " [  70.    82. ]] \n",
      " [[   3.6   70. ]\n",
      " [-148.    82. ]]\n"
     ]
    }
   ],
   "source": [
    "#write your code\n",
    "A = np.array([[4,-6],[6,10]])\n",
    "B = np.array([[6,-13],[3.4,16]])\n",
    "print(A+B, \"\\n\",np.matmul(B,B), \"\\n\", np.matmul(A,B),\"\\n\", np.matmul(B.T, A.T) )"
   ]
  },
  {
   "cell_type": "markdown",
   "metadata": {
    "colab_type": "text",
    "id": "AaDe3HVi-mgV"
   },
   "source": [
    "## Numpy : Linear *algebra*\n",
    "https://docs.scipy.org/doc/numpy-1.15.0/reference/routines.linalg.html"
   ]
  },
  {
   "cell_type": "markdown",
   "metadata": {
    "colab_type": "text",
    "id": "QyptrBW578Se"
   },
   "source": [
    "##<font color='red'>3. Find the solution of the following set of linear algebraic equations:}$$5x+6y+10z=4$$ $$-3x+14z=10$$ $$-7y+21z=0$$</font> "
   ]
  },
  {
   "cell_type": "code",
   "execution_count": 12,
   "metadata": {
    "colab": {},
    "colab_type": "code",
    "id": "F6Ta5w348idj"
   },
   "outputs": [
    {
     "name": "stdout",
     "output_type": "stream",
     "text": [
      "[-1.45454545  1.20779221  0.4025974 ]\n"
     ]
    }
   ],
   "source": [
    "#write your code\n",
    "a = np.array([[5,6,10],[-3,0,14],[0,-7,21]])\n",
    "b = np.array([4,10,0])\n",
    "x = np.linalg.solve(a,b)\n",
    "print(x)"
   ]
  },
  {
   "cell_type": "markdown",
   "metadata": {
    "colab_type": "text",
    "id": "zhGD6rIYCJ8i"
   },
   "source": [
    "##<font color='red'>4. Find the solution of the following set of linear algebraic equations such that $\\Vert Ax-b\\Vert^2_2$is minimized:$$5x+6y+10z=4$$ $$-3x+14z=10$$ $$-7y+21z=0$$$$2x-y+45z=16$$</font> "
   ]
  },
  {
   "cell_type": "code",
   "execution_count": 0,
   "metadata": {
    "colab": {},
    "colab_type": "code",
    "id": "HyVZ5bHKC6Lr"
   },
   "outputs": [],
   "source": [
    "#write your code\n"
   ]
  },
  {
   "cell_type": "markdown",
   "metadata": {
    "colab_type": "text",
    "id": "3B34NIubEbA-"
   },
   "source": [
    "##<font color='red'>5. create following two arrays:\n",
    "(a) Array of ones with 10 elements \n",
    "(b) Array a[1] = 2; a[2] = 3 and a[3] to a[10] are zero</font> "
   ]
  },
  {
   "cell_type": "code",
   "execution_count": 13,
   "metadata": {
    "colab": {},
    "colab_type": "code",
    "id": "iu6GxTFAFZFP"
   },
   "outputs": [
    {
     "name": "stdout",
     "output_type": "stream",
     "text": [
      "[0. 2. 3. 0. 0. 0. 0. 0. 0. 0.]\n"
     ]
    }
   ],
   "source": [
    "#write code here\n",
    "a = np.zeros(10)\n",
    "a[1]=2\n",
    "a[2]=3\n",
    "print(a)"
   ]
  },
  {
   "cell_type": "markdown",
   "metadata": {
    "colab_type": "text",
    "id": "OnPJvy9GH1H4"
   },
   "source": [
    "##Numpy: Statistics\n",
    "https://docs.scipy.org/doc/numpy-1.15.1/reference/routines.statistics.html\n",
    "\n",
    "For random sampling : https://docs.scipy.org/doc/numpy-1.15.0/reference/routines.random.html"
   ]
  },
  {
   "cell_type": "markdown",
   "metadata": {
    "colab_type": "text",
    "id": "C_ODKpdbF758"
   },
   "source": [
    "##<font color='red'>6. Create two arrays indicating marks of students in two subjects. Get average vector of them.</font> "
   ]
  },
  {
   "cell_type": "code",
   "execution_count": 19,
   "metadata": {
    "colab": {},
    "colab_type": "code",
    "id": "g-ndczyOGJdc"
   },
   "outputs": [],
   "source": [
    "#write code here\n",
    "a = np.random.randint(100,size=(100,2))"
   ]
  },
  {
   "cell_type": "code",
   "execution_count": 20,
   "metadata": {},
   "outputs": [
    {
     "name": "stdout",
     "output_type": "stream",
     "text": [
      "46.07 \n",
      " 54.49\n"
     ]
    }
   ],
   "source": [
    "print(np.mean(a[:,0]), \"\\n\", np.mean(a[:,1]))"
   ]
  },
  {
   "cell_type": "markdown",
   "metadata": {
    "colab_type": "text",
    "id": "3p0ybKFWbbZO"
   },
   "source": [
    "## Matplotlib: For Plot\n",
    "https://matplotlib.org/tutorials/introductory/pyplot.html#sphx-glr-tutorials-introductory-pyplot-py"
   ]
  },
  {
   "cell_type": "code",
   "execution_count": 24,
   "metadata": {
    "colab": {},
    "colab_type": "code",
    "id": "5onZQOXoJDbZ"
   },
   "outputs": [],
   "source": [
    "import matplotlib.pyplot as plt\n",
    "%matplotlib inline"
   ]
  },
  {
   "cell_type": "markdown",
   "metadata": {
    "colab_type": "text",
    "id": "Q8aC6tu_IQGE"
   },
   "source": [
    "##<font color='red'>7. Plot the following functions:\n",
    "\n",
    "1.   $y=\\sin{(x)} $ from $0\\le x\\le 2\\pi$ \n",
    "2.   $y=x^2-2x+15 $ from $0\\le x\\le 10$\n",
    "1.   $h[n] = {1, 2, 3, 4, 5}$\n",
    "4.   $h[n] = {1, 2, 3, 4, 5}$, with $n= -2$ to $2$\n",
    "<font>\n"
   ]
  },
  {
   "cell_type": "code",
   "execution_count": 23,
   "metadata": {
    "colab": {},
    "colab_type": "code",
    "id": "3BPpQrpZnw-q"
   },
   "outputs": [
    {
     "data": {
      "text/plain": [
       "[<matplotlib.lines.Line2D at 0x7f4ed0abbc88>]"
      ]
     },
     "execution_count": 23,
     "metadata": {},
     "output_type": "execute_result"
    },
    {
     "data": {
      "image/png": "[encoded data removed]",
      "text/plain": [
       "<Figure size 432x288 with 1 Axes>"
      ]
     },
     "metadata": {
      "needs_background": "light"
     },
     "output_type": "display_data"
    }
   ],
   "source": [
    "# write code here for 1\n",
    "x = np.linspace(0,2*3.14,num = 100)\n",
    "y = np.sin(x)\n",
    "plt.plot(x,y)"
   ]
  },
  {
   "cell_type": "code",
   "execution_count": 25,
   "metadata": {
    "colab": {},
    "colab_type": "code",
    "id": "4i-cG2VKKBUN"
   },
   "outputs": [
    {
     "data": {
      "text/plain": [
       "[<matplotlib.lines.Line2D at 0x7f4ed0a320b8>]"
      ]
     },
     "execution_count": 25,
     "metadata": {},
     "output_type": "execute_result"
    },
    {
     "data": {
      "image/png": "[encoded data removed]",
      "text/plain": [
       "<Figure size 432x288 with 1 Axes>"
      ]
     },
     "metadata": {
      "needs_background": "light"
     },
     "output_type": "display_data"
    }
   ],
   "source": [
    "# write code here for 2\n",
    "x = np.linspace(0,10,num = 100)\n",
    "y = x**2 - 2*x + 15\n",
    "plt.plot(x,y)"
   ]
  },
  {
   "cell_type": "code",
   "execution_count": 27,
   "metadata": {
    "colab": {},
    "colab_type": "code",
    "id": "07HnsfnSdjqk"
   },
   "outputs": [
    {
     "data": {
      "text/plain": [
       "[<matplotlib.lines.Line2D at 0x7f4ed09c7e80>]"
      ]
     },
     "execution_count": 27,
     "metadata": {},
     "output_type": "execute_result"
    },
    {
     "data": {
      "image/png": "[encoded data removed]",
      "text/plain": [
       "<Figure size 432x288 with 1 Axes>"
      ]
     },
     "metadata": {
      "needs_background": "light"
     },
     "output_type": "display_data"
    }
   ],
   "source": [
    "# write code here for 3\n",
    "hn = np.array([1,2,3,4,5])\n",
    "plt.plot(hn)\n",
    "plt.plot([1,2,3,4,5],[1,2,3,4,5],'ro')"
   ]
  },
  {
   "cell_type": "code",
   "execution_count": 30,
   "metadata": {
    "colab": {},
    "colab_type": "code",
    "id": "zH53q0TcdkPv"
   },
   "outputs": [
    {
     "data": {
      "text/plain": [
       "[<matplotlib.lines.Line2D at 0x7f4ed083fd30>]"
      ]
     },
     "execution_count": 30,
     "metadata": {},
     "output_type": "execute_result"
    },
    {
     "data": {
      "image/png": "[encoded data removed]",
      "text/plain": [
       "<Figure size 432x288 with 1 Axes>"
      ]
     },
     "metadata": {
      "needs_background": "light"
     },
     "output_type": "display_data"
    }
   ],
   "source": [
    "# write code here for 4\n",
    "n = np.array([-2,-1,0,1,2])\n",
    "hn = np.array([1,2,3,4,5])\n",
    "plt.plot(n,hn, 'o')"
   ]
  },
  {
   "cell_type": "markdown",
   "metadata": {
    "colab_type": "text",
    "id": "GobP2IePGThL"
   },
   "source": [
    "##<font color='red'>8. Write MATLAB code to verify whether the given vectors are linearly independent or not.\n",
    "v1 = [6 0 3 1 4 2];\n",
    "v2 = [0 -1 2 7 0 5];\n",
    "v3 = [12 3 0 -19 8 -11].</font> \n",
    "\n",
    "Hint: You can use matrix rank or rref form with help of numpy.linalg library "
   ]
  },
  {
   "cell_type": "code",
   "execution_count": 0,
   "metadata": {
    "colab": {},
    "colab_type": "code",
    "id": "hYOPaUUqG0-Y"
   },
   "outputs": [],
   "source": [
    "#write code here\n"
   ]
  },
  {
   "cell_type": "markdown",
   "metadata": {
    "colab_type": "text",
    "id": "dHjk5I0QM3S0"
   },
   "source": [
    "##<font color='red'>9. For real symmetric matrix\n",
    "1.   Find the Eigen values and eigan vectors\n",
    "2.   Verify properties of Eigen values and Eigen vector.<font>\n",
    "\n"
   ]
  },
  {
   "cell_type": "code",
   "execution_count": 0,
   "metadata": {
    "colab": {},
    "colab_type": "code",
    "id": "pIwy4pqQN1cn"
   },
   "outputs": [],
   "source": [
    "#write code here\n"
   ]
  },
  {
   "cell_type": "markdown",
   "metadata": {
    "colab_type": "text",
    "id": "167i2Ni7X1oZ"
   },
   "source": [
    "## Python Function:\n",
    "https://www.tutorialspoint.com/python/python_functions.htm"
   ]
  },
  {
   "cell_type": "markdown",
   "metadata": {
    "colab_type": "text",
    "id": "iauUBzH2SKPk"
   },
   "source": [
    "##<font color='red'>10. Write code for the following:\n",
    "  \n",
    "\n",
    "1.   Create a column vector with 10 values of temperature in degree centigrade $C^\\circ$\n",
    "2.   Convert each of the temperature values in degree Fahrenheit using the formula $$F^\\circ=\\frac{9}{2}C^\\circ+32$$\n",
    "1.   Make the final matrix with temperature values in $C^\\circ$ as the first column and in F as the second column.\n",
    "<font>\n",
    "\n"
   ]
  },
  {
   "cell_type": "code",
   "execution_count": 0,
   "metadata": {
    "colab": {},
    "colab_type": "code",
    "id": "RDtWZvYuTsPS"
   },
   "outputs": [],
   "source": [
    "def ctof(c):\n",
    "  #write code here to convert c to f\n",
    "  \n",
    "  return f"
   ]
  },
  {
   "cell_type": "code",
   "execution_count": 0,
   "metadata": {
    "colab": {},
    "colab_type": "code",
    "id": "DqwYVjmWUz4H"
   },
   "outputs": [],
   "source": [
    "#write code for 1\n",
    "\n"
   ]
  },
  {
   "cell_type": "code",
   "execution_count": 0,
   "metadata": {
    "colab": {},
    "colab_type": "code",
    "id": "--ytBr4EYEL_"
   },
   "outputs": [],
   "source": [
    "#write code for 2\n"
   ]
  },
  {
   "cell_type": "code",
   "execution_count": 0,
   "metadata": {
    "colab": {},
    "colab_type": "code",
    "id": "jHbry5XnYNpN"
   },
   "outputs": [],
   "source": [
    "#write code for 3\n"
   ]
  },
  {
   "cell_type": "markdown",
   "metadata": {
    "colab_type": "text",
    "id": "7R2JhXrrY9-2"
   },
   "source": [
    "## Python : Control statements\n",
    "if else: https://www.w3schools.com/python/python_conditions.asp\n",
    "\n",
    "while loop : https://www.w3schools.com/python/python_while_loops.asp\n",
    "\n",
    "for loop : https://www.w3schools.com/python/python_for_loops.asp"
   ]
  },
  {
   "cell_type": "markdown",
   "metadata": {
    "colab_type": "text",
    "id": "ER-fUvoFYir-"
   },
   "source": [
    "##<font color='red'>12. Determine the probability of 3 heads in 4 tosses of a coin with probability of head being $p=0.75$. Use a relative frequency interpretation of probability to yield the result."
   ]
  },
  {
   "cell_type": "code",
   "execution_count": 0,
   "metadata": {
    "colab": {},
    "colab_type": "code",
    "id": "80ti1ZQTY8UF"
   },
   "outputs": [],
   "source": [
    "#write code here\n",
    "\n",
    "       "
   ]
  },
  {
   "cell_type": "markdown",
   "metadata": {
    "colab_type": "text",
    "id": "uqQyo3jNd3Df"
   },
   "source": [
    "##<font color='red'>13. Write a program that will add all the numbers corresponding to the even indices of an array. Use that program to find the sum of all even integers from 1 to 1000.<font>"
   ]
  },
  {
   "cell_type": "code",
   "execution_count": 0,
   "metadata": {
    "colab": {},
    "colab_type": "code",
    "id": "JzmE6DJJeYvH"
   },
   "outputs": [],
   "source": [
    "#hint: Write your program as follows: where x is the input vector, and y is the sum of all the numbers corresponding to the even indices of x. \n",
    "def addeven(x):\n",
    "  #write code here\n",
    "  return sum"
   ]
  },
  {
   "cell_type": "code",
   "execution_count": 0,
   "metadata": {
    "colab": {},
    "colab_type": "code",
    "id": "swRSzjrUeu3D"
   },
   "outputs": [],
   "source": [
    "#\n",
    "a= #generate array\n",
    "addeven(a)"
   ]
  }
 ],
 "metadata": {
  "accelerator": "GPU",
  "colab": {
   "collapsed_sections": [],
   "name": "LAB 1 Introduction to python for CT314.ipynb",
   "provenance": [],
   "version": "0.3.2"
  },
  "kernelspec": {
   "display_name": "Python 3",
   "language": "python",
   "name": "python3"
  },
  "language_info": {
   "codemirror_mode": {
    "name": "ipython",
    "version": 3
   },
   "file_extension": ".py",
   "mimetype": "text/x-python",
   "name": "python",
   "nbconvert_exporter": "python",
   "pygments_lexer": "ipython3",
   "version": "3.7.1"
  }
 },
 "nbformat": 4,
 "nbformat_minor": 1
}
