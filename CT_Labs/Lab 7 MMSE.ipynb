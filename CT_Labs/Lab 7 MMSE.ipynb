{
 "cells": [
  {
   "cell_type": "code",
   "execution_count": 34,
   "metadata": {
    "colab": {},
    "colab_type": "code",
    "id": "WlNXziqzB_tf"
   },
   "outputs": [],
   "source": [
    "%matplotlib inline\n",
    "import numpy as np\n",
    "import matplotlib.pyplot as plt\n",
    "from scipy import misc\n",
    "from scipy.io import wavfile\n",
    "from numpy import linalg as la\n",
    "import matplotlib.image as mpimg\n",
    "import glob\n",
    "from numpy import linalg as LA\n",
    "import scipy.io as sio \n",
    "import math\n",
    "import scipy"
   ]
  },
  {
   "cell_type": "markdown",
   "metadata": {
    "colab_type": "text",
    "id": "AClEH4SlB_tk"
   },
   "source": [
    "## <font color='red'> 1. Let Y is true and X is observed random variables. Estimate $\\hat{Y}$ as constant $b$. Verify $b=E[Y]$ give minimum MMSE.<font>"
   ]
  },
  {
   "cell_type": "code",
   "execution_count": 35,
   "metadata": {
    "colab": {},
    "colab_type": "code",
    "id": "NXg-K2JbB_tl",
    "outputId": "6668a899-c699-48ab-cbd7-3837fc25852f"
   },
   "outputs": [
    {
     "name": "stdout",
     "output_type": "stream",
     "text": [
      "MMSE between Y and YE 0.08251397427699432\n"
     ]
    },
    {
     "data": {
      "text/plain": [
       "[<matplotlib.lines.Line2D at 0x7f8140891240>]"
      ]
     },
     "execution_count": 35,
     "metadata": {},
     "output_type": "execute_result"
    },
    {
     "data": {
      "image/png": "[encoded data removed]",
      "text/plain": [
       "<Figure size 432x288 with 1 Axes>"
      ]
     },
     "metadata": {
      "needs_background": "light"
     },
     "output_type": "display_data"
    },
    {
     "data": {
      "image/png": "[encoded data removed]",
      "text/plain": [
       "<Figure size 432x288 with 1 Axes>"
      ]
     },
     "metadata": {
      "needs_background": "light"
     },
     "output_type": "display_data"
    }
   ],
   "source": [
    "Y = np.random.uniform(0,1,10000)\n",
    "y = np.linspace(np.min(Y),np.max(Y),10000)\n",
    "\n",
    "plt.figure()\n",
    "plt.plot(y,Y)\n",
    "\n",
    "YE = np.mean(Y)\n",
    "print(\"MMSE between Y and YE\",np.mean((Y-YE)**2))#\"\"\"\n",
    "plt.figure()\n",
    "plt.plot(y,(y-YE)**2)"
   ]
  },
  {
   "cell_type": "markdown",
   "metadata": {
    "colab_type": "text",
    "id": "LxOydmaUB_tr"
   },
   "source": [
    "## Y>>>>> channel/Model >>>>> X \n",
    "## <font color='red'> 2.1 Generating correlated two random variables.Consider one variable as true and another as observed. Find the linear MMSE estimate of X given Y. <font>\n",
    "Hint: $$Y=AX$$ $$C_Y=AC_XA^T$$ Digonalize $$C_Y=U\\Sigma U^{-1}$$ So, $$U\\Sigma^{\\frac{1}{2}}\\Sigma^{\\frac{1}{2}} U^{-1}=AC_XA^T$$ If, $X$ is uncorrelated then $C_X$ must be identity\n",
    "\n",
    "Hint for Code: Use np.linalg.eig,np.diag,np.matmul,np.cov"
   ]
  },
  {
   "cell_type": "code",
   "execution_count": 80,
   "metadata": {
    "colab": {},
    "colab_type": "code",
    "id": "Wqhjl5VLB_ts"
   },
   "outputs": [],
   "source": [
    "def corrrv(n_samp,correlation):\n",
    "    x1 = np.random.randn(n_samp)\n",
    "    x2 = np.random.randn(n_samp)\n",
    "    X = np.concatenate((np.array([x1]),np.array([x2])),axis=0)\n",
    "    Cx = np.cov(X)\n",
    "    cr = correlation # correlation \n",
    "    Cy = np.array([[1 , cr ],\n",
    "                   [cr , 1 ]])\n",
    "    \n",
    "    e,u = np.linalg.eig(Cy)\n",
    "    d = np.diag(e)\n",
    "    d = scipy.linalg.sqrtm(d)\n",
    "    a = np.matmul(u,d)\n",
    "    Y = np.matmul(a,X)\n",
    "    \n",
    "    #write code here\n",
    "    X = Y[0,:]\n",
    "    Y = Y[1,:]\n",
    "    return Y,X"
   ]
  },
  {
   "cell_type": "code",
   "execution_count": 81,
   "metadata": {
    "colab": {},
    "colab_type": "code",
    "id": "MGkw-pK4B_tv",
    "outputId": "da046697-12be-4876-f83c-9705c2848234"
   },
   "outputs": [
    {
     "name": "stdout",
     "output_type": "stream",
     "text": [
      "[[0.97467219 0.5819816 ]\n",
      " [0.5819816  0.98009072]]\n"
     ]
    }
   ],
   "source": [
    "Y,X = corrrv(10000,0.6)\n",
    "print(np.cov(Y,X))"
   ]
  },
  {
   "cell_type": "markdown",
   "metadata": {
    "colab_type": "text",
    "id": "vEgkyw2tB_tz"
   },
   "source": [
    "## <font color='red'> 2.2 Consider one variable as true and another as observed. Find the linear MMSE estimate of X given Y. <font>\n",
    "Hint : Let Y=Y[0,:] and X= Y[1,:] \n",
    " $$\\hat{Y}=aX+b$$\n",
    " $$a = \\frac{COV(X,Y)}{VAR(X)}$$\n",
    " $$b = E[Y-aX]$$"
   ]
  },
  {
   "cell_type": "code",
   "execution_count": 82,
   "metadata": {
    "colab": {},
    "colab_type": "code",
    "id": "7ptUWq4mB_t0"
   },
   "outputs": [],
   "source": [
    "def LMMSEP(Y,X):\n",
    "    c = (np.cov(Y,X))\n",
    "    a=c[0,1]/c[0,0]\n",
    "    #print(c/v)\n",
    "    b = np.mean(Y-a*X)\n",
    "    return a,b"
   ]
  },
  {
   "cell_type": "code",
   "execution_count": 83,
   "metadata": {
    "colab": {},
    "colab_type": "code",
    "id": "stHSTxF-B_t2",
    "outputId": "737486f4-5d62-4dc7-ea20-7122a532930f"
   },
   "outputs": [
    {
     "name": "stdout",
     "output_type": "stream",
     "text": [
      "MMSE between Y and YE 0.6290370672592122\n",
      "MMSE between Y and X 0.790723337953278\n"
     ]
    }
   ],
   "source": [
    "a,b = LMMSEP(Y,X)\n",
    "YE = a*X+b\n",
    "print(\"MMSE between Y and YE\",np.mean((Y-YE)**2))\n",
    "print(\"MMSE between Y and X\",np.mean((Y-X)**2))"
   ]
  },
  {
   "cell_type": "markdown",
   "metadata": {
    "colab_type": "text",
    "id": "pLvs2l97B_t5"
   },
   "source": [
    "## <font color='red'> 2.3 Generate another set of correlated random variable with same correlation. Estimate $\\hat{Y}$ using already estimated parameters.<font>\n",
    "    "
   ]
  },
  {
   "cell_type": "code",
   "execution_count": 87,
   "metadata": {
    "colab": {},
    "colab_type": "code",
    "id": "gL39OLE-B_t6",
    "outputId": "ec91a645-432c-4881-9ba4-01b2960d1a93"
   },
   "outputs": [
    {
     "name": "stdout",
     "output_type": "stream",
     "text": [
      "MMSE between Y and YE 0.6435091256101099\n",
      "MMSE between Y and X 0.8033837487211299\n"
     ]
    }
   ],
   "source": [
    "Y,X = corrrv(10000,0.6)\n",
    "a,b = LMMSEP(Y,X)\n",
    "YE = a*X+b\n",
    "print(\"MMSE between Y and YE\",np.mean((Y-YE)**2))\n",
    "print(\"MMSE between Y and X\",np.mean((Y-X)**2))"
   ]
  },
  {
   "cell_type": "markdown",
   "metadata": {
    "colab_type": "text",
    "id": "SFgR1UcSB_t9"
   },
   "source": [
    "## <font color='red'> 3. Repeate 2.1 and 2.2 for different random variables with different values of correlations.<font>"
   ]
  },
  {
   "cell_type": "code",
   "execution_count": 86,
   "metadata": {
    "colab": {},
    "colab_type": "code",
    "id": "iGsd3oYzB_t-",
    "outputId": "9f84f86c-a715-43fc-9323-5a5ba67f1e25"
   },
   "outputs": [
    {
     "data": {
      "text/plain": [
       "[<matplotlib.lines.Line2D at 0x7f8140ac84a8>]"
      ]
     },
     "execution_count": 86,
     "metadata": {},
     "output_type": "execute_result"
    },
    {
     "data": {
      "image/png": "[encoded data removed]",
      "text/plain": [
       "<Figure size 432x288 with 1 Axes>"
      ]
     },
     "metadata": {
      "needs_background": "light"
     },
     "output_type": "display_data"
    }
   ],
   "source": [
    "crr = np.linspace(0,1,100)\n",
    "MMSE = np.zeros(shape=(100,1))\n",
    "for i in range(100):\n",
    "    Y,X = corrrv(10000,crr[i])\n",
    "    a,b = LMMSEP(Y,X)\n",
    "    YE = a*X+b\n",
    "    MMSE[i] = np.mean((Y-YE)**2)\n",
    "plt.plot(crr,MMSE)"
   ]
  },
  {
   "cell_type": "code",
   "execution_count": null,
   "metadata": {},
   "outputs": [],
   "source": []
  },
  {
   "cell_type": "code",
   "execution_count": null,
   "metadata": {},
   "outputs": [],
   "source": []
  },
  {
   "cell_type": "code",
   "execution_count": null,
   "metadata": {},
   "outputs": [],
   "source": []
  },
  {
   "cell_type": "code",
   "execution_count": null,
   "metadata": {},
   "outputs": [],
   "source": []
  },
  {
   "cell_type": "code",
   "execution_count": null,
   "metadata": {},
   "outputs": [],
   "source": []
  },
  {
   "cell_type": "code",
   "execution_count": null,
   "metadata": {},
   "outputs": [],
   "source": []
  }
 ],
 "metadata": {
  "colab": {
   "collapsed_sections": [],
   "name": "Lab 7 MMSE.ipynb",
   "provenance": [],
   "version": "0.3.2"
  },
  "kernelspec": {
   "display_name": "Python 3",
   "language": "python",
   "name": "python3"
  },
  "language_info": {
   "codemirror_mode": {
    "name": "ipython",
    "version": 3
   },
   "file_extension": ".py",
   "mimetype": "text/x-python",
   "name": "python",
   "nbconvert_exporter": "python",
   "pygments_lexer": "ipython3",
   "version": "3.7.1"
  }
 },
 "nbformat": 4,
 "nbformat_minor": 1
}
