{
 "cells": [
  {
   "cell_type": "markdown",
   "metadata": {
    "colab_type": "text",
    "id": "aWkdI9_4L2VW"
   },
   "source": [
    "## <font color='red'> 1. Generate samples from the given distributions. $$f(X)=\\frac{1}{3}(x-1)^2,0<x<3.$$ After generating the number from the given distributions, verify the distribution of the generated numbers by using histogram. [HINT=Accept-Reject method for sampling]<font>"
   ]
  },
  {
   "cell_type": "markdown",
   "metadata": {
    "colab_type": "text",
    "id": "gINqeVZTNZj9"
   },
   "source": [
    "ACCEPT-REJECT METHOD\n",
    "\n",
    "\n",
    "1.   find $c=max(f(x))$\n",
    "2.   generate random uniform number $x$ between 0 and 3\n",
    "3.   generate random uniform number $y$ between 0 and $c$\n",
    "4.   if $y<f(x)$, accept $x$ else reject\n",
    "\n"
   ]
  },
  {
   "cell_type": "code",
   "execution_count": 6,
   "metadata": {
    "colab": {
     "base_uri": "https://localhost:8080/",
     "height": 562
    },
    "colab_type": "code",
    "executionInfo": {
     "elapsed": 1796,
     "status": "ok",
     "timestamp": 1555385527759,
     "user": {
      "displayName": "Jignesh Patel",
      "photoUrl": "https://lh4.googleusercontent.com/-vUfG6O6FZMo/AAAAAAAAAAI/AAAAAAAAEbI/nRY5hm534mE/s64/photo.jpg",
      "userId": "14227228275160561258"
     },
     "user_tz": -330
    },
    "id": "L8BwHZuVMpCH",
    "outputId": "6ab347d5-2276-4c90-f07d-d1b1fa24d0fa"
   },
   "outputs": [],
   "source": [
    "import numpy as np\n",
    "%matplotlib inline\n",
    "import matplotlib.pyplot as plt\n",
    "sample = 10000\n",
    "x = np.linspace(0, 3, sample)\n",
    "fx = 1/3 * (x-1)**2\n",
    "c = max(fx)\n",
    "freq = np.zeros(10000)\n",
    "for i in range(sample):\n",
    "    x = np.random.uniform(0,3,1)\n",
    "    y = np.random.uniform(0,c,1)\n",
    "    if(y<fx[i]):\n",
    "        freq[i] += 1"
   ]
  }
 ],
 "metadata": {
  "colab": {
   "name": "LAB 10.ipynb",
   "provenance": [],
   "version": "0.3.2"
  },
  "kernelspec": {
   "display_name": "Python 3",
   "language": "python",
   "name": "python3"
  },
  "language_info": {
   "codemirror_mode": {
    "name": "ipython",
    "version": 3
   },
   "file_extension": ".py",
   "mimetype": "text/x-python",
   "name": "python",
   "nbconvert_exporter": "python",
   "pygments_lexer": "ipython3",
   "version": "3.7.1"
  }
 },
 "nbformat": 4,
 "nbformat_minor": 1
}
