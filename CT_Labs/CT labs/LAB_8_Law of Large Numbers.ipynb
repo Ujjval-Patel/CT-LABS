{
 "cells": [
  {
   "cell_type": "code",
   "execution_count": 14,
   "metadata": {
    "colab": {},
    "colab_type": "code",
    "id": "waNNfLT_T-lv"
   },
   "outputs": [],
   "source": [
    "%matplotlib inline\n",
    "import numpy as np\n",
    "import matplotlib.pyplot as plt\n",
    "from scipy import misc\n",
    "from scipy.io import wavfile\n",
    "from numpy import linalg as la\n",
    "import matplotlib.image as mpimg\n",
    "import glob\n",
    "from numpy import linalg as LA\n",
    "import scipy.io as sio"
   ]
  },
  {
   "cell_type": "markdown",
   "metadata": {
    "colab_type": "text",
    "id": "EouDgG_YyD_q"
   },
   "source": [
    "## <font color='red'> 1. Experimentally prove weak law of large numbers. $$\\lim_{n\\to \\infty} P[\\vert M_n-m_x\\vert>\\epsilon]=0$$ Where, $M_n$ is the sample mean, $m_x$ is the actual mean, $\\epsilon$ is a small positive number and $n$ is the number of sample points.<font>"
   ]
  },
  {
   "cell_type": "code",
   "execution_count": 23,
   "metadata": {
    "colab": {
     "base_uri": "https://localhost:8080/",
     "height": 34
    },
    "colab_type": "code",
    "executionInfo": {
     "elapsed": 1739,
     "status": "ok",
     "timestamp": 1553572720520,
     "user": {
      "displayName": "Jignesh Patel",
      "photoUrl": "https://lh4.googleusercontent.com/-vUfG6O6FZMo/AAAAAAAAAAI/AAAAAAAAEbI/nRY5hm534mE/s64/photo.jpg",
      "userId": "14227228275160561258"
     },
     "user_tz": -330
    },
    "id": "-3b9txWwdPKq",
    "outputId": "1fd1dd93-9aa7-4e05-9d6a-7abb6d4a8c9a"
   },
   "outputs": [
    {
     "name": "stdout",
     "output_type": "stream",
     "text": [
      "0.9235\n"
     ]
    }
   ],
   "source": [
    "mx = 0\n",
    "n = 10000\n",
    "samples = 10000\n",
    "eta = 0.001\n",
    "count = 0\n",
    "a = np.zeros(n)\n",
    "Mn = np.zeros(samples)\n",
    "for i in range(n):\n",
    "    a[i] = i\n",
    "    x = np.random.normal(mx, 1, n)\n",
    "    Mn[i] =  np.mean(x)\n",
    "    if(Mn[i] > eta or Mn[i]<-1*eta):\n",
    "        count += 1\n",
    "print(count/n)\n",
    "# plt.plot(a,Mn)"
   ]
  },
  {
   "cell_type": "markdown",
   "metadata": {
    "colab_type": "text",
    "id": "hKMJRDFlzwzJ"
   },
   "source": [
    "## <font color='red'> 2. Experimentally prove strong law of large numbers. $$P[\\lim_{n\\to \\infty} M_n=m_x]=1,$$ Where, $M_n$ is the sample mean, $m_x$ is the actual mean, and $n$ is the number of sample points.<font>"
   ]
  },
  {
   "cell_type": "code",
   "execution_count": 5,
   "metadata": {},
   "outputs": [
    {
     "name": "stderr",
     "output_type": "stream",
     "text": [
      "/home/joker657/anaconda3/lib/python3.7/site-packages/numpy/core/fromnumeric.py:2920: RuntimeWarning: Mean of empty slice.\n",
      "  out=out, **kwargs)\n",
      "/home/joker657/anaconda3/lib/python3.7/site-packages/numpy/core/_methods.py:85: RuntimeWarning: invalid value encountered in double_scalars\n",
      "  ret = ret.dtype.type(ret / rcount)\n"
     ]
    }
   ],
   "source": [
    "count = 10000\n",
    "mx = 0\n",
    "x = np.random.normal(0,1, 10000)\n",
    "Mn = np.zeros(10000)\n",
    "for i in range(10000):\n",
    "    Mn[i] = np.mean(x[0:i])"
   ]
  },
  {
   "cell_type": "code",
   "execution_count": 8,
   "metadata": {
    "colab": {
     "base_uri": "https://localhost:8080/",
     "height": 547
    },
    "colab_type": "code",
    "executionInfo": {
     "elapsed": 2252,
     "status": "ok",
     "timestamp": 1553572721041,
     "user": {
      "displayName": "Jignesh Patel",
      "photoUrl": "https://lh4.googleusercontent.com/-vUfG6O6FZMo/AAAAAAAAAAI/AAAAAAAAEbI/nRY5hm534mE/s64/photo.jpg",
      "userId": "14227228275160561258"
     },
     "user_tz": -330
    },
    "id": "21MajmRmacR5",
    "outputId": "978bed27-f4cd-45b8-fdff-54d192978eef"
   },
   "outputs": [
    {
     "data": {
      "text/plain": [
       "<Figure size 432x288 with 0 Axes>"
      ]
     },
     "execution_count": 8,
     "metadata": {},
     "output_type": "execute_result"
    },
    {
     "data": {
      "image/png": "[encoded data removed]",
      "text/plain": [
       "<Figure size 432x288 with 1 Axes>"
      ]
     },
     "metadata": {
      "needs_background": "light"
     },
     "output_type": "display_data"
    },
    {
     "data": {
      "image/png": "[encoded data removed]",
      "text/plain": [
       "<Figure size 432x288 with 1 Axes>"
      ]
     },
     "metadata": {
      "needs_background": "light"
     },
     "output_type": "display_data"
    },
    {
     "data": {
      "text/plain": [
       "<Figure size 432x288 with 0 Axes>"
      ]
     },
     "metadata": {},
     "output_type": "display_data"
    }
   ],
   "source": [
    "actual_mean = np.ones(10000)*mx\n",
    "itr = np.linspace(0, 10000, num = 10000)\n",
    "plt.figure()\n",
    "plt.plot(itr,actual_mean,label='actual_mean')\n",
    "plt.plot(itr,Mn,label='Mn')\n",
    "plt.legend()\n",
    "plt.figure()\n",
    "plt.plot(itr,Mn-actual_mean,label='error')\n",
    "plt.figure()\n"
   ]
  },
  {
   "cell_type": "markdown",
   "metadata": {
    "colab_type": "text",
    "id": "naVsJJPe7U4A"
   },
   "source": [
    "## <font color='red'> 3. Experimentally prove central limit theorem. $$\\frac{S_N-E[S_N]}{\\sqrt{var(S_N)}}=\\frac{\\sum_{i=1}^{N}{X_i}-\\sum_{i=1}^{N}{E[X_i]}}{\\sqrt{\\sum_{i=1}^{N}{var[X_i]}}}\\to N(0,1)$$,Where, $X_1, X_2, . . , X_N$ are  random variables with mean $E[X_i]$ and variance $var[X_i]$, $i=1,2,…, N$. <font>"
   ]
  },
  {
   "cell_type": "code",
   "execution_count": 13,
   "metadata": {
    "colab": {
     "base_uri": "https://localhost:8080/",
     "height": 1342
    },
    "colab_type": "code",
    "executionInfo": {
     "elapsed": 3752,
     "status": "ok",
     "timestamp": 1553572722559,
     "user": {
      "displayName": "Jignesh Patel",
      "photoUrl": "https://lh4.googleusercontent.com/-vUfG6O6FZMo/AAAAAAAAAAI/AAAAAAAAEbI/nRY5hm534mE/s64/photo.jpg",
      "userId": "14227228275160561258"
     },
     "user_tz": -330
    },
    "id": "cOZDJSCJAQSr",
    "outputId": "e259af19-46bb-43b3-92ee-17be31300a36"
   },
   "outputs": [
    {
     "data": {
      "text/plain": [
       "[<matplotlib.lines.Line2D at 0x7fab48e4db00>]"
      ]
     },
     "execution_count": 13,
     "metadata": {},
     "output_type": "execute_result"
    },
    {
     "data": {
      "image/png": "[encoded data removed]",
      "text/plain": [
       "<Figure size 432x288 with 1 Axes>"
      ]
     },
     "metadata": {
      "needs_background": "light"
     },
     "output_type": "display_data"
    },
    {
     "data": {
      "text/plain": [
       "<Figure size 432x288 with 0 Axes>"
      ]
     },
     "metadata": {},
     "output_type": "display_data"
    },
    {
     "data": {
      "image/png": "[encoded data removed]",
      "text/plain": [
       "<Figure size 432x288 with 1 Axes>"
      ]
     },
     "metadata": {
      "needs_background": "light"
     },
     "output_type": "display_data"
    }
   ],
   "source": [
    "N=10 \n",
    "M=10000\n",
    "x = np.zeros([M,N])\n",
    "for i in range(M):\n",
    "    for j in range(N):\n",
    "        x[i][j] = np.random.normal(0, 1, 1)\n",
    "\n",
    "Sn = np.zeros(M)\n",
    "for i in range(M):\n",
    "    Sn[i] = np.sum(x[i,:])/np.sqrt(N)\n",
    "\n",
    "plt.hist(x[:,0],normed=True)\n",
    "plt.figure()\n",
    "plt.figure()\n",
    "plt.hist(Sn,normed=True)\n",
    "\n",
    "x=np.linspace(-4,4,1000)\n",
    "fx=(1/(np.sqrt(2*np.pi)))*np.exp((-x**2)/2);\n",
    "plt.plot(x,fx)"
   ]
  },
  {
   "cell_type": "code",
   "execution_count": 0,
   "metadata": {
    "colab": {},
    "colab_type": "code",
    "id": "fKS0BN55BpNh"
   },
   "outputs": [],
   "source": []
  }
 ],
 "metadata": {
  "colab": {
   "name": "LAB_8_Law of Large Numbers.ipynb",
   "provenance": [],
   "version": "0.3.2"
  },
  "kernelspec": {
   "display_name": "Python 3",
   "language": "python",
   "name": "python3"
  },
  "language_info": {
   "codemirror_mode": {
    "name": "ipython",
    "version": 3
   },
   "file_extension": ".py",
   "mimetype": "text/x-python",
   "name": "python",
   "nbconvert_exporter": "python",
   "pygments_lexer": "ipython3",
   "version": "3.7.1"
  }
 },
 "nbformat": 4,
 "nbformat_minor": 1
}
