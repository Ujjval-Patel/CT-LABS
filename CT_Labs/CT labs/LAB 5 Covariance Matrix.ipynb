{
 "cells": [
  {
   "cell_type": "code",
   "execution_count": 75,
   "metadata": {
    "colab": {},
    "colab_type": "code",
    "id": "6MOcNluBHUd4"
   },
   "outputs": [],
   "source": [
    "%matplotlib inline\n",
    "import numpy as np\n",
    "import matplotlib.pyplot as plt\n",
    "from mpl_toolkits.mplot3d import Axes3D\n",
    "from matplotlib import cm\n",
    "import matplotlib.image as mpimg"
   ]
  },
  {
   "cell_type": "markdown",
   "metadata": {
    "colab_type": "text",
    "id": "rHoCkPksS_eG"
   },
   "source": [
    "## Three different Gaussian random variables, i.e., $X1$, $X2$ and $X3$ with $0$ mean and $1$ variance. "
   ]
  },
  {
   "cell_type": "code",
   "execution_count": 59,
   "metadata": {
    "colab": {},
    "colab_type": "code",
    "id": "k3aRQUlwITVQ"
   },
   "outputs": [
    {
     "name": "stdout",
     "output_type": "stream",
     "text": [
      "(2000, 3)\n"
     ]
    }
   ],
   "source": [
    "M = 2000\n",
    "X1 = np.random.normal(0, 1, M)\n",
    "X2 = np.random.normal(0, 1, M)\n",
    "X3 = np.random.normal(0, 1, M)\n",
    "X = np.transpose(np.reshape(np.array([X1,X2,X3]),[3,M]))\n",
    "print(X.shape)"
   ]
  },
  {
   "cell_type": "markdown",
   "metadata": {
    "colab_type": "text",
    "id": "grSpBhjFS_ei"
   },
   "source": [
    "## <font color='red'>1. Compute the covariance matrix of  $X1$, $X2$ and $X3$. Covariance matrix (CV) $$CV = \\begin{bmatrix} cov(X1,X1) & cov(X1,X2)& cov(X1,X3)\\\\cov(X2,X1) & cov(X2,X2)& cov(X2,X3)\\\\cov(X3,X1) & cov(X3,X2)& cov(X3,X3)\\end{bmatrix}.$$ Here, $$cov(X,Y)=E[XY]-E[X]E[Y]$$</font> \n"
   ]
  },
  {
   "cell_type": "code",
   "execution_count": 78,
   "metadata": {
    "colab": {},
    "colab_type": "code",
    "id": "AjP3K-UmDKf5"
   },
   "outputs": [],
   "source": [
    "#Cov(x,y) = ((x-mean(x))(y-mean(y)))/N\n",
    "def covmat(data_mat):\n",
    "    m,n = data_mat.shape\n",
    "    CV = np.zeros((n,n))\n",
    "    m = float(m)\n",
    "    mean = np.zeros(n)\n",
    "    for i in range(n):\n",
    "        mean[i] = np.sum(data_mat[:,i])\n",
    "    for i in range(n):\n",
    "        for j in range(n):\n",
    "            a = data_mat[:,i] - mean[i]\n",
    "            b = data_mat[:,j] - mean[j]\n",
    "            CV[i][j] = (a*b)/m\n",
    "    return CV"
   ]
  },
  {
   "cell_type": "code",
   "execution_count": 55,
   "metadata": {},
   "outputs": [
    {
     "name": "stdout",
     "output_type": "stream",
     "text": [
      "19\n"
     ]
    }
   ],
   "source": [
    "a = [1,1,2,4,5,6]\n",
    "print(np.sum(a))"
   ]
  },
  {
   "cell_type": "code",
   "execution_count": 79,
   "metadata": {
    "colab": {},
    "colab_type": "code",
    "id": "vTI0tis2DKgA",
    "outputId": "b7d80c8e-3de8-41d9-fbb0-45a04bc5381b"
   },
   "outputs": [
    {
     "ename": "ValueError",
     "evalue": "setting an array element with a sequence.",
     "output_type": "error",
     "traceback": [
      "\u001b[0;31m---------------------------------------------------------------------------\u001b[0m",
      "\u001b[0;31mValueError\u001b[0m                                Traceback (most recent call last)",
      "\u001b[0;32m<ipython-input-79-5cf4800fb6de>\u001b[0m in \u001b[0;36m<module>\u001b[0;34m\u001b[0m\n\u001b[0;32m----> 1\u001b[0;31m \u001b[0mCV\u001b[0m \u001b[0;34m=\u001b[0m \u001b[0mcovmat\u001b[0m\u001b[0;34m(\u001b[0m\u001b[0mX\u001b[0m\u001b[0;34m)\u001b[0m\u001b[0;34m\u001b[0m\u001b[0;34m\u001b[0m\u001b[0m\n\u001b[0m\u001b[1;32m      2\u001b[0m \u001b[0mprint\u001b[0m\u001b[0;34m(\u001b[0m\u001b[0mCV\u001b[0m\u001b[0;34m)\u001b[0m\u001b[0;34m\u001b[0m\u001b[0;34m\u001b[0m\u001b[0m\n\u001b[1;32m      3\u001b[0m \u001b[0mfig\u001b[0m\u001b[0;34m=\u001b[0m\u001b[0mplt\u001b[0m\u001b[0;34m.\u001b[0m\u001b[0mfigure\u001b[0m\u001b[0;34m(\u001b[0m\u001b[0;34m)\u001b[0m\u001b[0;34m\u001b[0m\u001b[0;34m\u001b[0m\u001b[0m\n\u001b[1;32m      4\u001b[0m \u001b[0mplt\u001b[0m\u001b[0;34m.\u001b[0m\u001b[0mimshow\u001b[0m\u001b[0;34m(\u001b[0m\u001b[0mCV\u001b[0m\u001b[0;34m)\u001b[0m\u001b[0;34m\u001b[0m\u001b[0;34m\u001b[0m\u001b[0m\n\u001b[1;32m      5\u001b[0m \u001b[0mplt\u001b[0m\u001b[0;34m.\u001b[0m\u001b[0mcolorbar\u001b[0m\u001b[0;34m(\u001b[0m\u001b[0;34m)\u001b[0m\u001b[0;34m\u001b[0m\u001b[0;34m\u001b[0m\u001b[0m\n",
      "\u001b[0;32m<ipython-input-78-cd2038ccd246>\u001b[0m in \u001b[0;36mcovmat\u001b[0;34m(data_mat)\u001b[0m\n\u001b[1;32m     11\u001b[0m             \u001b[0ma\u001b[0m \u001b[0;34m=\u001b[0m \u001b[0mdata_mat\u001b[0m\u001b[0;34m[\u001b[0m\u001b[0;34m:\u001b[0m\u001b[0;34m,\u001b[0m\u001b[0mi\u001b[0m\u001b[0;34m]\u001b[0m \u001b[0;34m-\u001b[0m \u001b[0mmean\u001b[0m\u001b[0;34m[\u001b[0m\u001b[0mi\u001b[0m\u001b[0;34m]\u001b[0m\u001b[0;34m\u001b[0m\u001b[0;34m\u001b[0m\u001b[0m\n\u001b[1;32m     12\u001b[0m             \u001b[0mb\u001b[0m \u001b[0;34m=\u001b[0m \u001b[0mdata_mat\u001b[0m\u001b[0;34m[\u001b[0m\u001b[0;34m:\u001b[0m\u001b[0;34m,\u001b[0m\u001b[0mj\u001b[0m\u001b[0;34m]\u001b[0m \u001b[0;34m-\u001b[0m \u001b[0mmean\u001b[0m\u001b[0;34m[\u001b[0m\u001b[0mj\u001b[0m\u001b[0;34m]\u001b[0m\u001b[0;34m\u001b[0m\u001b[0;34m\u001b[0m\u001b[0m\n\u001b[0;32m---> 13\u001b[0;31m             \u001b[0mCV\u001b[0m\u001b[0;34m[\u001b[0m\u001b[0mi\u001b[0m\u001b[0;34m]\u001b[0m\u001b[0;34m[\u001b[0m\u001b[0mj\u001b[0m\u001b[0;34m]\u001b[0m \u001b[0;34m=\u001b[0m \u001b[0;34m(\u001b[0m\u001b[0ma\u001b[0m\u001b[0;34m*\u001b[0m\u001b[0mb\u001b[0m\u001b[0;34m)\u001b[0m\u001b[0;34m/\u001b[0m\u001b[0mm\u001b[0m\u001b[0;34m\u001b[0m\u001b[0;34m\u001b[0m\u001b[0m\n\u001b[0m\u001b[1;32m     14\u001b[0m     \u001b[0;32mreturn\u001b[0m \u001b[0mCV\u001b[0m\u001b[0;34m\u001b[0m\u001b[0;34m\u001b[0m\u001b[0m\n",
      "\u001b[0;31mValueError\u001b[0m: setting an array element with a sequence."
     ]
    }
   ],
   "source": [
    "CV = covmat(X)\n",
    "print(CV)\n",
    "fig=plt.figure()\n",
    "plt.imshow(CV)\n",
    "plt.colorbar()"
   ]
  },
  {
   "cell_type": "markdown",
   "metadata": {
    "colab_type": "text",
    "id": "TgcyZLsoDKgJ"
   },
   "source": [
    "## <font color='red'>2. Generate three random variables as $X1$, $X2$ and $X1+X2$. Compute the covariance matrix</font> "
   ]
  },
  {
   "cell_type": "code",
   "execution_count": 66,
   "metadata": {
    "colab": {},
    "colab_type": "code",
    "id": "JTXX_TsuDaLX"
   },
   "outputs": [
    {
     "name": "stdout",
     "output_type": "stream",
     "text": [
      "[[ 0.9612163  -0.00736754  0.95384876]\n",
      " [-0.00736754  1.04777801  1.04041047]\n",
      " [ 0.95384876  1.04041047  1.99425923]]\n"
     ]
    },
    {
     "data": {
      "text/plain": [
       "<matplotlib.colorbar.Colorbar at 0x7fe006305470>"
      ]
     },
     "execution_count": 66,
     "metadata": {},
     "output_type": "execute_result"
    },
    {
     "data": {
      "image/png": "[encoded data removed]",
      "text/plain": [
       "<Figure size 432x288 with 2 Axes>"
      ]
     },
     "metadata": {
      "needs_background": "light"
     },
     "output_type": "display_data"
    }
   ],
   "source": [
    "X1 =np.random.normal(0, 1, M)\n",
    "X2 =np.random.normal(0, 1, M)\n",
    "X3 = X1+X2\n",
    "X = np.transpose(np.reshape(np.array([X1,X2,X3]),[3,M]))\n",
    "CV = covmat(X)\n",
    "print(CV)\n",
    "fig=plt.figure()\n",
    "plt.imshow(CV)\n",
    "plt.colorbar()"
   ]
  },
  {
   "cell_type": "markdown",
   "metadata": {
    "colab_type": "text",
    "id": "W2UR5Hn2DKgP"
   },
   "source": [
    "## <font color='red'>3. Generate covariance matrix of correlated data. Take face images as the data.</font> "
   ]
  },
  {
   "cell_type": "code",
   "execution_count": 77,
   "metadata": {
    "colab": {},
    "colab_type": "code",
    "id": "Fi4E7jO9DKgR",
    "outputId": "2b4a984d-f72c-4c9a-df31-bb2ad04b6e6f"
   },
   "outputs": [
    {
     "name": "stdout",
     "output_type": "stream",
     "text": [
      "[[2842.34397415 1772.09264952 1296.35812308 1440.1269711   745.82859141\n",
      "   664.23417774]\n",
      " [1772.09264952 2345.2391852   945.74757173  928.27042199  594.16624356\n",
      "   237.74714864]\n",
      " [1296.35812308  945.74757173 2002.36923601 1255.68066919  795.2471839\n",
      "   736.05473497]\n",
      " [1440.1269711   928.27042199 1255.68066919 2197.8056051   917.26893253\n",
      "   699.41633051]\n",
      " [ 745.82859141  594.16624356  795.2471839   917.26893253 1407.87791752\n",
      "   450.69255924]\n",
      " [ 664.23417774  237.74714864  736.05473497  699.41633051  450.69255924\n",
      "  1715.95615042]]\n"
     ]
    },
    {
     "data": {
      "text/plain": [
       "<matplotlib.colorbar.Colorbar at 0x7fe005cc4240>"
      ]
     },
     "execution_count": 77,
     "metadata": {},
     "output_type": "execute_result"
    },
    {
     "data": {
      "image/png": "[encoded data removed]",
      "text/plain": [
       "<Figure size 432x288 with 2 Axes>"
      ]
     },
     "metadata": {
      "needs_background": "light"
     },
     "output_type": "display_data"
    },
    {
     "data": {
      "image/png": "[encoded data removed]",
      "text/plain": [
       "<Figure size 432x288 with 2 Axes>"
      ]
     },
     "metadata": {
      "needs_background": "light"
     },
     "output_type": "display_data"
    }
   ],
   "source": [
    "X1 = mpimg.imread('f1.pgm')\n",
    "plt.imshow(X1)\n",
    "plt.colorbar()\n",
    "[m,n]=np.shape(X1)\n",
    "M = m*n\n",
    "X1 = X1.flatten()\n",
    "X2 = mpimg.imread('f2.pgm').flatten()\n",
    "X3 = mpimg.imread('f3.pgm').flatten()\n",
    "X4 = mpimg.imread('f4.pgm').flatten()\n",
    "X5 = mpimg.imread('f5.pgm').flatten()\n",
    "X6 = mpimg.imread('f6.pgm').flatten()\n",
    "\n",
    "X = np.transpose(np.reshape(np.array([X1,X2,X3,X4,X5,X6]), [6,M]))\n",
    "CV1 = covmat(X)\n",
    "print(CV1)\n",
    "fig=plt.figure()\n",
    "plt.imshow(CV1)\n",
    "plt.colorbar()"
   ]
  },
  {
   "cell_type": "markdown",
   "metadata": {
    "colab_type": "text",
    "id": "tZ4hd5nuDKgh"
   },
   "source": [
    "## <font color='red'>4. Show that data and noise are uncorrelated. Take Image files as your data and standard gaussian noise.</font> "
   ]
  },
  {
   "cell_type": "code",
   "execution_count": 70,
   "metadata": {
    "colab": {},
    "colab_type": "code",
    "id": "fkY_DbQeDKgl",
    "outputId": "0a778e26-a017-40e1-d963-223406fb90ad"
   },
   "outputs": [
    {
     "name": "stdout",
     "output_type": "stream",
     "text": [
      "[[1.         0.68636406 0.54339369 0.5761928  0.37283632 0.30076674\n",
      "  0.00553014]\n",
      " [0.68636406 1.         0.43642496 0.408871   0.32698807 0.11851373\n",
      "  0.00511455]\n",
      " [0.54339369 0.43642496 1.         0.59856661 0.47363911 0.39708633\n",
      "  0.0020216 ]\n",
      " [0.5761928  0.408871   0.59856661 1.         0.52145826 0.36015383\n",
      "  0.002753  ]\n",
      " [0.37283632 0.32698807 0.47363911 0.52145826 1.         0.28996448\n",
      "  0.00254463]\n",
      " [0.30076674 0.11851373 0.39708633 0.36015383 0.28996448 1.\n",
      "  0.00116592]\n",
      " [0.00553014 0.00511455 0.0020216  0.002753   0.00254463 0.00116592\n",
      "  1.0199442 ]]\n"
     ]
    },
    {
     "data": {
      "text/plain": [
       "<matplotlib.colorbar.Colorbar at 0x7fe0060491d0>"
      ]
     },
     "execution_count": 70,
     "metadata": {},
     "output_type": "execute_result"
    },
    {
     "data": {
      "image/png": "[encoded data removed]",
      "text/plain": [
       "<Figure size 432x288 with 2 Axes>"
      ]
     },
     "metadata": {
      "needs_background": "light"
     },
     "output_type": "display_data"
    }
   ],
   "source": [
    "X1 = (X1-np.mean(X1))/np.std(X1) # FOR NORMALIZATION TO ZERO MEAN ONE VARIANCE\n",
    "X2 = (X2-np.mean(X2))/np.std(X2)#write code here\n",
    "X3 = (X3-np.mean(X3))/np.std(X3)#write code here\n",
    "X4 = (X4-np.mean(X4))/np.std(X4)#write code here\n",
    "X5 = (X5-np.mean(X5))/np.std(X5)#write code here\n",
    "X6 = (X6-np.mean(X6))/np.std(X6)#write code here\n",
    "\n",
    "XN = np.random.normal(0, 1, M)\n",
    "X = np.transpose(np.reshape(np.array([X1,X2,X3,X4,X5,X6,XN]), [7,M]))\n",
    "CV = covmat(X)\n",
    "print(CV)\n",
    "fig=plt.figure()\n",
    "plt.imshow(CV)\n",
    "plt.colorbar()"
   ]
  },
  {
   "cell_type": "markdown",
   "metadata": {
    "colab_type": "text",
    "id": "S8wJd5UFDKgx"
   },
   "source": [
    "## Consider $X1$,$X2$ and $X3$ uniform random variables"
   ]
  },
  {
   "cell_type": "code",
   "execution_count": 74,
   "metadata": {
    "colab": {},
    "colab_type": "code",
    "id": "oIm-4YKJDKg3",
    "outputId": "32e128c8-bf93-41d5-ee9f-b3bc397ca872"
   },
   "outputs": [
    {
     "name": "stdout",
     "output_type": "stream",
     "text": [
      "[[ 0.08241725  0.00029327  0.00092736]\n",
      " [ 0.00029327  0.08256451 -0.00015421]\n",
      " [ 0.00092736 -0.00015421  0.08187988]]\n"
     ]
    },
    {
     "data": {
      "text/plain": [
       "<matplotlib.colorbar.Colorbar at 0x7fe005dc1048>"
      ]
     },
     "execution_count": 74,
     "metadata": {},
     "output_type": "execute_result"
    },
    {
     "data": {
      "image/png": "[encoded data removed]",
      "text/plain": [
       "<Figure size 432x288 with 2 Axes>"
      ]
     },
     "metadata": {
      "needs_background": "light"
     },
     "output_type": "display_data"
    }
   ],
   "source": [
    "X1 = np.random.uniform(0,1,M)\n",
    "X2 = np.random.uniform(0,1,M)\n",
    "X3 = np.random.uniform(0,1,M)\n",
    "\n",
    "X = np.transpose(np.reshape(np.array([X1, X2, X3]),[3,M]))\n",
    "CV = covmat(X)\n",
    "print(CV)\n",
    "fig=plt.figure()\n",
    "plt.imshow(CV)\n",
    "plt.colorbar()"
   ]
  },
  {
   "cell_type": "markdown",
   "metadata": {
    "colab_type": "text",
    "id": "eKF1iWVVDKhE"
   },
   "source": [
    "## <font color='red'>5. Verify the properties of the covariance matrix.</font>"
   ]
  },
  {
   "cell_type": "markdown",
   "metadata": {
    "colab_type": "text",
    "id": "6Z1l5uMUDKhF"
   },
   "source": [
    "### <font color='red'> a) Symmetric,i.e.,$C_X = C_X^T.$ </font> "
   ]
  },
  {
   "cell_type": "code",
   "execution_count": 0,
   "metadata": {
    "colab": {},
    "colab_type": "code",
    "id": "10EhLQRRDKhI",
    "outputId": "a2b2002d-0273-4728-a50b-b84a2dc7f3c5"
   },
   "outputs": [
    {
     "name": "stdout",
     "output_type": "stream",
     "text": [
      "[[0. 0. 0.]\n",
      " [0. 0. 0.]\n",
      " [0. 0. 0.]]\n"
     ]
    }
   ],
   "source": [
    "#write code here"
   ]
  },
  {
   "cell_type": "markdown",
   "metadata": {
    "colab_type": "text",
    "id": "Jh1FrgEMDKhP"
   },
   "source": [
    "### <font color='red'> b) Its eigenvalues are greater than equal to zero</font>"
   ]
  },
  {
   "cell_type": "code",
   "execution_count": 0,
   "metadata": {
    "colab": {},
    "colab_type": "code",
    "id": "pcksP2TJDKhQ",
    "outputId": "7d0a82cc-5400-489a-f2d8-db1a2f704fd4"
   },
   "outputs": [
    {
     "name": "stdout",
     "output_type": "stream",
     "text": [
      "[[-0.66084825 -0.72683973 -0.18703902]\n",
      " [-0.25798816  0.45402305 -0.85282189]\n",
      " [-0.70478486  0.515332    0.48755639]]\n"
     ]
    }
   ],
   "source": [
    "from numpy import linalg as LA\n",
    "#write code here"
   ]
  },
  {
   "cell_type": "markdown",
   "metadata": {
    "colab_type": "text",
    "id": "dRLagLuCDKha"
   },
   "source": [
    "### <font color='red'> c) It is positive semi-definite, i.e., for any real valued vector $a$,$$a^TC_Xa\\geq0$$ </font>"
   ]
  },
  {
   "cell_type": "code",
   "execution_count": 0,
   "metadata": {
    "colab": {},
    "colab_type": "code",
    "id": "Ah-EQiD8DKhc",
    "outputId": "87190f13-3518-4d26-f040-bc5f7c9a203c"
   },
   "outputs": [
    {
     "name": "stdout",
     "output_type": "stream",
     "text": [
      "[[7.40215413]]\n"
     ]
    }
   ],
   "source": [
    "a = np.random.rand(np.size(CV,0),1)\n",
    "#write code here"
   ]
  },
  {
   "cell_type": "markdown",
   "metadata": {
    "colab_type": "text",
    "id": "n3d1lr5LDKhk"
   },
   "source": [
    "## <font color='red'>6. Compute correlation coefficient matrix.</font>\n",
    "Hint: you may require np.mean,np.prod,and np.std"
   ]
  },
  {
   "cell_type": "code",
   "execution_count": 0,
   "metadata": {
    "colab": {},
    "colab_type": "code",
    "id": "TU-e6i50DKhm"
   },
   "outputs": [],
   "source": [
    "def corr(data_mat):\n",
    "    #write code here\n",
    "    return CR"
   ]
  },
  {
   "cell_type": "code",
   "execution_count": 0,
   "metadata": {
    "colab": {},
    "colab_type": "code",
    "id": "q1SS-febDKhr",
    "outputId": "89047005-03f5-4d14-c6c6-1d20a63758c7"
   },
   "outputs": [
    {
     "name": "stdout",
     "output_type": "stream",
     "text": [
      "[[3.44228338e-01 8.77662985e-03 1.56467888e-02]\n",
      " [8.77662985e-03 3.41590990e-01 9.84640730e-05]\n",
      " [1.56467888e-02 9.84640730e-05 3.49634306e-01]]\n"
     ]
    },
    {
     "data": {
      "text/plain": [
       "<matplotlib.colorbar.Colorbar at 0x7f6dd7681e80>"
      ]
     },
     "execution_count": 14,
     "metadata": {
      "tags": []
     },
     "output_type": "execute_result"
    },
    {
     "data": {
      "image/png": "[encoded data removed]",
      "text/plain": [
       "<Figure size 432x288 with 2 Axes>"
      ]
     },
     "metadata": {
      "needs_background": "light",
      "tags": []
     },
     "output_type": "display_data"
    }
   ],
   "source": [
    "CR = corr(X)\n",
    "print(CR)\n",
    "fig=plt.figure()\n",
    "plt.imshow(CR)\n",
    "plt.colorbar()"
   ]
  }
 ],
 "metadata": {
  "accelerator": "GPU",
  "colab": {
   "collapsed_sections": [],
   "name": "LAB 5 Covariance Matrix.ipynb",
   "provenance": [],
   "version": "0.3.2"
  },
  "kernelspec": {
   "display_name": "Python 3",
   "language": "python",
   "name": "python3"
  },
  "language_info": {
   "codemirror_mode": {
    "name": "ipython",
    "version": 3
   },
   "file_extension": ".py",
   "mimetype": "text/x-python",
   "name": "python",
   "nbconvert_exporter": "python",
   "pygments_lexer": "ipython3",
   "version": "3.7.1"
  }
 },
 "nbformat": 4,
 "nbformat_minor": 1
}
